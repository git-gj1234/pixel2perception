{
 "cells": [
  {
   "cell_type": "code",
   "execution_count": 3,
   "metadata": {},
   "outputs": [
    {
     "name": "stdout",
     "output_type": "stream",
     "text": [
      "Image sent successfully.\n",
      "0.9772179126739502\n"
     ]
    }
   ],
   "source": [
    "import socket\n",
    "import os\n",
    "import time\n",
    "\n",
    "def send_image(image_path, host, port):\n",
    "    s = socket.socket()\n",
    "    s.connect((host, port))\n",
    "\n",
    "    with open(image_path, 'rb') as f:\n",
    "        image_data = f.read()\n",
    "\n",
    "    image_size = len(image_data)\n",
    "    s.sendall(str(image_size).encode().ljust(16))\n",
    "\n",
    "    s.sendall(image_data)\n",
    "    print(\"Image sent successfully.\")\n",
    "\n",
    "    s.close()\n",
    "\n",
    "if __name__ == '__main__':\n",
    "    t = time.time()\n",
    "    image_path = 'blind.png'\n",
    "\n",
    "    host = '10.242.95.120'  \n",
    "    port = 12345\n",
    "\n",
    "    send_image(image_path, host, port)\n",
    "    print(time.time()-t)"
   ]
  },
  {
   "cell_type": "code",
   "execution_count": null,
   "metadata": {},
   "outputs": [],
   "source": [
    "import socket\n",
    "\n",
    "def receive_image(save_path, port):\n",
    "    s = socket.socket()\n",
    "    s.bind(('10.242.95.120', port))\n",
    "    s.listen(1)\n",
    "    print(\"Waiting for connection...\")\n",
    "\n",
    "    conn, addr = s.accept()\n",
    "    print(f\"Connection from {addr}\")\n",
    "\n",
    "    image_size = int(conn.recv(16).decode().strip())\n",
    "\n",
    "    received_data = b\"\"\n",
    "    while len(received_data) < image_size:\n",
    "        packet = conn.recv(4096)\n",
    "        if not packet:\n",
    "            break\n",
    "        received_data += packet\n",
    "\n",
    "    with open(save_path, 'wb') as f:\n",
    "        f.write(received_data)\n",
    "    print(f\"Image received and saved as {save_path}\")\n",
    "\n",
    "    conn.close()\n",
    "\n",
    "if __name__ == '__main__':\n",
    "    save_path = 'received_image.jpg'\n",
    "\n",
    "    port = 12345\n",
    "\n",
    "    receive_image(save_path, port)"
   ]
  }
 ],
 "metadata": {
  "kernelspec": {
   "display_name": "pytorch_cuda",
   "language": "python",
   "name": "python3"
  },
  "language_info": {
   "codemirror_mode": {
    "name": "ipython",
    "version": 3
   },
   "file_extension": ".py",
   "mimetype": "text/x-python",
   "name": "python",
   "nbconvert_exporter": "python",
   "pygments_lexer": "ipython3",
   "version": "3.12.3"
  }
 },
 "nbformat": 4,
 "nbformat_minor": 2
}
